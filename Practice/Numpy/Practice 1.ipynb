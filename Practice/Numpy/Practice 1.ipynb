{
 "cells": [
  {
   "cell_type": "code",
   "execution_count": 5,
   "id": "c4d860a9-32da-4452-b332-3671bb741fef",
   "metadata": {},
   "outputs": [],
   "source": [
    "import numpy as np\n",
    "# Numerical python\n",
    "# n-dim Array"
   ]
  },
  {
   "cell_type": "code",
   "execution_count": 6,
   "id": "cc1a8761-c8bd-4765-ac58-1fc88a24b53f",
   "metadata": {},
   "outputs": [
    {
     "data": {
      "text/plain": [
       "array([1, 2, 3, 4])"
      ]
     },
     "execution_count": 6,
     "metadata": {},
     "output_type": "execute_result"
    }
   ],
   "source": [
    "np1 = np.array([1,2,3,4])\n",
    "np1"
   ]
  },
  {
   "cell_type": "code",
   "execution_count": 7,
   "id": "d08a457c-8dc7-4eb5-8e9c-311819396818",
   "metadata": {},
   "outputs": [
    {
     "data": {
      "text/plain": [
       "array([0, 1, 2, 3, 4])"
      ]
     },
     "execution_count": 7,
     "metadata": {},
     "output_type": "execute_result"
    }
   ],
   "source": [
    "#Range \n",
    "np1 = np.arange(5)\n",
    "np1"
   ]
  },
  {
   "cell_type": "code",
   "execution_count": 8,
   "id": "d1a3ffd3-166b-444b-807f-6ea71dcad9d1",
   "metadata": {},
   "outputs": [
    {
     "data": {
      "text/plain": [
       "array([1, 3, 5])"
      ]
     },
     "execution_count": 8,
     "metadata": {},
     "output_type": "execute_result"
    }
   ],
   "source": [
    "#Step\n",
    "np1 = np.arange(1,6,2)\n",
    "np1"
   ]
  },
  {
   "cell_type": "code",
   "execution_count": 9,
   "id": "5703e1b4-8590-4fe5-ab84-61147a344f8f",
   "metadata": {},
   "outputs": [
    {
     "data": {
      "text/plain": [
       "array([0., 0., 0., 0., 0.])"
      ]
     },
     "execution_count": 9,
     "metadata": {},
     "output_type": "execute_result"
    }
   ],
   "source": [
    "#Zeroes\n",
    "np1 = np.zeros(5)\n",
    "np1"
   ]
  },
  {
   "cell_type": "code",
   "execution_count": 10,
   "id": "2031f3c5-5c21-453b-945f-c808b1a86d5a",
   "metadata": {},
   "outputs": [
    {
     "data": {
      "text/plain": [
       "array([[0., 0.],\n",
       "       [0., 0.]])"
      ]
     },
     "execution_count": 10,
     "metadata": {},
     "output_type": "execute_result"
    }
   ],
   "source": [
    "np1 = np.zeros((2,2))\n",
    "np1"
   ]
  },
  {
   "cell_type": "code",
   "execution_count": 11,
   "id": "2c5e9932-9905-482d-a89f-6549ce36e0cd",
   "metadata": {},
   "outputs": [
    {
     "data": {
      "text/plain": [
       "array([1., 1., 1., 1., 1.])"
      ]
     },
     "execution_count": 11,
     "metadata": {},
     "output_type": "execute_result"
    }
   ],
   "source": [
    "#ones\n",
    "np1 = np.ones(5)\n",
    "np1"
   ]
  },
  {
   "cell_type": "code",
   "execution_count": 12,
   "id": "09a00981-cc22-4980-9ac4-a12c8d72494a",
   "metadata": {},
   "outputs": [
    {
     "data": {
      "text/plain": [
       "array([[1., 1., 1.],\n",
       "       [1., 1., 1.]])"
      ]
     },
     "execution_count": 12,
     "metadata": {},
     "output_type": "execute_result"
    }
   ],
   "source": [
    "np1 = np.ones((2,3))\n",
    "np1"
   ]
  },
  {
   "cell_type": "code",
   "execution_count": 13,
   "id": "4206e97e-3019-4763-824f-fde4e5c073e3",
   "metadata": {},
   "outputs": [
    {
     "name": "stdout",
     "output_type": "stream",
     "text": [
      "(2, 3)\n",
      "float64\n",
      "2\n",
      "6\n",
      "8\n"
     ]
    }
   ],
   "source": [
    "print(np1.shape) #rows and column\n",
    "print(np1.dtype) # Data type\n",
    "print(np1.ndim) # Dimention\n",
    "print(np1.size) # Byte 1 byte = 8 bits \n",
    "print(np1.itemsize) # total no elements"
   ]
  },
  {
   "cell_type": "code",
   "execution_count": 14,
   "id": "6fafc012-1967-4bff-809d-e6259f478058",
   "metadata": {},
   "outputs": [
    {
     "name": "stdout",
     "output_type": "stream",
     "text": [
      "[[1. 1. 1.]\n",
      " [1. 1. 1.]]\n",
      "1.0\n"
     ]
    }
   ],
   "source": [
    "# Index\n",
    "print(np1)\n",
    "print(np1[0][0])"
   ]
  },
  {
   "cell_type": "code",
   "execution_count": 15,
   "id": "efc473b2-f13f-4a83-a7f5-e0ca563595fc",
   "metadata": {},
   "outputs": [
    {
     "name": "stdout",
     "output_type": "stream",
     "text": [
      "1\n",
      "1\n"
     ]
    }
   ],
   "source": [
    "# List Vs Tuple\n",
    "L = [1,2,3]\n",
    "A = np.array([1,2,3])\n",
    "\n",
    "print(L[0])\n",
    "print(A[0])"
   ]
  },
  {
   "cell_type": "code",
   "execution_count": 16,
   "id": "a37b1a6c-dafb-4c40-b68c-19d19ea879d7",
   "metadata": {},
   "outputs": [
    {
     "name": "stdout",
     "output_type": "stream",
     "text": [
      "[1, 2, 3, 1, 2, 3]\n",
      "[2 4 6]\n"
     ]
    }
   ],
   "source": [
    "print(L * 2)\n",
    "print(A * 2)"
   ]
  },
  {
   "cell_type": "code",
   "execution_count": 17,
   "id": "49387143-365f-44b5-8133-630cfefd820f",
   "metadata": {},
   "outputs": [
    {
     "name": "stdout",
     "output_type": "stream",
     "text": [
      "[1, 2, 3, 3, 2, 1]\n",
      "[4 4 4]\n"
     ]
    }
   ],
   "source": [
    "print(L + [3,2,1])\n",
    "print(A + [3,2,1])"
   ]
  },
  {
   "cell_type": "markdown",
   "id": "f7f98070-f3ef-4396-b2f0-8138bcf7d5d4",
   "metadata": {},
   "source": [
    "Dot Product"
   ]
  },
  {
   "cell_type": "code",
   "execution_count": 19,
   "id": "ed53897e-cbaf-4662-bf2b-4be0ee620f01",
   "metadata": {},
   "outputs": [],
   "source": [
    "l1 = np.array([1,2,3])\n",
    "l2 = np.array([2,4,6])\n"
   ]
  },
  {
   "cell_type": "code",
   "execution_count": 20,
   "id": "b81997ff-cc89-4bc2-9b67-ecb0104aae8b",
   "metadata": {},
   "outputs": [
    {
     "data": {
      "text/plain": [
       "28"
      ]
     },
     "execution_count": 20,
     "metadata": {},
     "output_type": "execute_result"
    }
   ],
   "source": [
    "np.dot(l1,l2)"
   ]
  },
  {
   "cell_type": "code",
   "execution_count": 21,
   "id": "ed9100db-5bf3-4601-9b1f-60166cd15b2d",
   "metadata": {},
   "outputs": [
    {
     "data": {
      "text/plain": [
       "array([ 2,  8, 18])"
      ]
     },
     "execution_count": 21,
     "metadata": {},
     "output_type": "execute_result"
    }
   ],
   "source": [
    "mul = l1 * l2\n",
    "mul"
   ]
  },
  {
   "cell_type": "code",
   "execution_count": 22,
   "id": "0e280b24-b666-4af2-9dc6-64f8f3413a53",
   "metadata": {},
   "outputs": [
    {
     "data": {
      "text/plain": [
       "28"
      ]
     },
     "execution_count": 22,
     "metadata": {},
     "output_type": "execute_result"
    }
   ],
   "source": [
    "np.sum(mul)"
   ]
  },
  {
   "cell_type": "code",
   "execution_count": 23,
   "id": "7096307c-6d72-45c5-8780-13a70f5dea6d",
   "metadata": {},
   "outputs": [
    {
     "data": {
      "text/plain": [
       "28"
      ]
     },
     "execution_count": 23,
     "metadata": {},
     "output_type": "execute_result"
    }
   ],
   "source": [
    "l1 @ l2"
   ]
  },
  {
   "cell_type": "code",
   "execution_count": 24,
   "id": "0d2b5dd3-260d-46a6-8d30-fcf1b7614a64",
   "metadata": {},
   "outputs": [
    {
     "data": {
      "text/plain": [
       "28"
      ]
     },
     "execution_count": 24,
     "metadata": {},
     "output_type": "execute_result"
    }
   ],
   "source": [
    "(l1 * l2).sum()"
   ]
  },
  {
   "cell_type": "markdown",
   "id": "95bfc9f2-2d5b-4abe-b481-b865ddc4604d",
   "metadata": {},
   "source": [
    "N Dim"
   ]
  },
  {
   "cell_type": "code",
   "execution_count": 56,
   "id": "d027bbaf-db53-41ed-a7e3-927d5a2bdd1f",
   "metadata": {},
   "outputs": [
    {
     "data": {
      "text/plain": [
       "array([[1, 2, 3],\n",
       "       [5, 7, 9],\n",
       "       [3, 6, 4],\n",
       "       [3, 4, 5],\n",
       "       [9, 8, 7]])"
      ]
     },
     "execution_count": 56,
     "metadata": {},
     "output_type": "execute_result"
    }
   ],
   "source": [
    "np1 = np.array([[1,2,3],[5,7,9],[3,6,4],[3,4,5],[9,8,7]])\n",
    "np1"
   ]
  },
  {
   "cell_type": "code",
   "execution_count": 78,
   "id": "9eb1ba96-b90f-4d44-b688-848b8d48890e",
   "metadata": {},
   "outputs": [
    {
     "data": {
      "text/plain": [
       "(5, 3)"
      ]
     },
     "execution_count": 78,
     "metadata": {},
     "output_type": "execute_result"
    }
   ],
   "source": [
    "np1.shape"
   ]
  },
  {
   "cell_type": "code",
   "execution_count": 58,
   "id": "f8c2d14d-b3eb-4a07-aeea-62cf6884a1a8",
   "metadata": {},
   "outputs": [
    {
     "data": {
      "text/plain": [
       "array([1, 2, 3])"
      ]
     },
     "execution_count": 58,
     "metadata": {},
     "output_type": "execute_result"
    }
   ],
   "source": [
    "np1[0]"
   ]
  },
  {
   "cell_type": "code",
   "execution_count": 60,
   "id": "5586530a-b30b-474e-bdfb-eb4a49128ad7",
   "metadata": {},
   "outputs": [
    {
     "data": {
      "text/plain": [
       "1"
      ]
     },
     "execution_count": 60,
     "metadata": {},
     "output_type": "execute_result"
    }
   ],
   "source": [
    "np1[0][0]"
   ]
  },
  {
   "cell_type": "code",
   "execution_count": 64,
   "id": "12b4ca16-7f02-4f50-b09e-d2ff08993d0a",
   "metadata": {},
   "outputs": [
    {
     "data": {
      "text/plain": [
       "array([[1, 2, 3],\n",
       "       [5, 7, 9]])"
      ]
     },
     "execution_count": 64,
     "metadata": {},
     "output_type": "execute_result"
    }
   ],
   "source": [
    "np1[0:2]"
   ]
  },
  {
   "cell_type": "code",
   "execution_count": 66,
   "id": "d9ddc702-d068-49ff-b629-05d8c087bf4d",
   "metadata": {},
   "outputs": [
    {
     "data": {
      "text/plain": [
       "array([[5, 7, 9],\n",
       "       [3, 6, 4],\n",
       "       [3, 4, 5]])"
      ]
     },
     "execution_count": 66,
     "metadata": {},
     "output_type": "execute_result"
    }
   ],
   "source": [
    "np1[1:4]"
   ]
  },
  {
   "cell_type": "code",
   "execution_count": 74,
   "id": "440cc9a8-7609-4dd1-b5d5-91672d4b29f7",
   "metadata": {},
   "outputs": [
    {
     "data": {
      "text/plain": [
       "array([5, 3, 3])"
      ]
     },
     "execution_count": 74,
     "metadata": {},
     "output_type": "execute_result"
    }
   ],
   "source": [
    "np1[1:4,0]"
   ]
  },
  {
   "cell_type": "code",
   "execution_count": 76,
   "id": "80d4c669-b07c-4ef3-adf7-2f30fe179752",
   "metadata": {},
   "outputs": [
    {
     "data": {
      "text/plain": [
       "array([[5, 7],\n",
       "       [3, 6],\n",
       "       [3, 4]])"
      ]
     },
     "execution_count": 76,
     "metadata": {},
     "output_type": "execute_result"
    }
   ],
   "source": [
    "np1[1:4,0:2]"
   ]
  },
  {
   "cell_type": "code",
   "execution_count": 82,
   "id": "0a0cefba-e103-4b3f-8d79-06f8cea3d3d3",
   "metadata": {},
   "outputs": [
    {
     "data": {
      "text/plain": [
       "array([[1, 2, 3],\n",
       "       [5, 7, 9],\n",
       "       [3, 6, 4],\n",
       "       [3, 4, 5],\n",
       "       [9, 8, 7]])"
      ]
     },
     "execution_count": 82,
     "metadata": {},
     "output_type": "execute_result"
    }
   ],
   "source": [
    "np1"
   ]
  },
  {
   "cell_type": "code",
   "execution_count": 84,
   "id": "4244948c-c59d-4efa-a7aa-bff8cc473a53",
   "metadata": {},
   "outputs": [
    {
     "data": {
      "text/plain": [
       "7"
      ]
     },
     "execution_count": 84,
     "metadata": {},
     "output_type": "execute_result"
    }
   ],
   "source": [
    "np1[1,1]"
   ]
  },
  {
   "cell_type": "code",
   "execution_count": 100,
   "id": "c7b57c37-7ace-4ecd-a91d-31fc205d1e55",
   "metadata": {},
   "outputs": [
    {
     "data": {
      "text/plain": [
       "array([[1, 2, 3],\n",
       "       [5, 7, 9],\n",
       "       [3, 6, 4]])"
      ]
     },
     "execution_count": 100,
     "metadata": {},
     "output_type": "execute_result"
    }
   ],
   "source": [
    "np1[0:3]"
   ]
  },
  {
   "cell_type": "code",
   "execution_count": 108,
   "id": "8079e1a8-d5e9-4223-9259-56ae620baf8a",
   "metadata": {},
   "outputs": [
    {
     "data": {
      "text/plain": [
       "array([1, 2, 3])"
      ]
     },
     "execution_count": 108,
     "metadata": {},
     "output_type": "execute_result"
    }
   ],
   "source": [
    "np1[0:3][0]"
   ]
  },
  {
   "cell_type": "code",
   "execution_count": 110,
   "id": "3561dd9f-d0b7-4f46-ba10-6152b57eea6d",
   "metadata": {},
   "outputs": [
    {
     "data": {
      "text/plain": [
       "1"
      ]
     },
     "execution_count": 110,
     "metadata": {},
     "output_type": "execute_result"
    }
   ],
   "source": [
    "np1[0:3][0][0]"
   ]
  },
  {
   "cell_type": "code",
   "execution_count": 114,
   "id": "b57c5d62-9b37-4c3d-a256-575dfabf4c67",
   "metadata": {},
   "outputs": [
    {
     "data": {
      "text/plain": [
       "array([2, 7, 6])"
      ]
     },
     "execution_count": 114,
     "metadata": {},
     "output_type": "execute_result"
    }
   ],
   "source": [
    "np1[0:3,1]"
   ]
  },
  {
   "cell_type": "markdown",
   "id": "46d2e2cf-2ee3-4428-980a-f0affb0e7bdb",
   "metadata": {},
   "source": [
    "Bool index"
   ]
  },
  {
   "cell_type": "code",
   "execution_count": 119,
   "id": "b7ced808-0446-469c-9927-63f4cdaea8a9",
   "metadata": {},
   "outputs": [
    {
     "data": {
      "text/plain": [
       "array([[False, False, False],\n",
       "       [False,  True,  True],\n",
       "       [False,  True, False]])"
      ]
     },
     "execution_count": 119,
     "metadata": {},
     "output_type": "execute_result"
    }
   ],
   "source": [
    "BoolIdx = np1[0:3] > 5\n",
    "BoolIdx"
   ]
  },
  {
   "cell_type": "code",
   "execution_count": 123,
   "id": "ca91ccaa-7506-46b2-acec-208647d60c85",
   "metadata": {},
   "outputs": [
    {
     "data": {
      "text/plain": [
       "array([7, 9, 6])"
      ]
     },
     "execution_count": 123,
     "metadata": {},
     "output_type": "execute_result"
    }
   ],
   "source": [
    "np1[0:3][BoolIdx]"
   ]
  },
  {
   "cell_type": "code",
   "execution_count": 125,
   "id": "4acc3b5c-a336-418f-8667-63c14622e385",
   "metadata": {},
   "outputs": [
    {
     "data": {
      "text/plain": [
       "array([[1, 2, 3],\n",
       "       [5, 7, 9],\n",
       "       [3, 6, 4],\n",
       "       [3, 4, 5],\n",
       "       [9, 8, 7]])"
      ]
     },
     "execution_count": 125,
     "metadata": {},
     "output_type": "execute_result"
    }
   ],
   "source": [
    "np1"
   ]
  },
  {
   "cell_type": "code",
   "execution_count": 129,
   "id": "bf0409e3-6d8e-49a1-a31d-01db33951e2b",
   "metadata": {},
   "outputs": [
    {
     "data": {
      "text/plain": [
       "array([7, 9, 6, 9, 8, 7])"
      ]
     },
     "execution_count": 129,
     "metadata": {},
     "output_type": "execute_result"
    }
   ],
   "source": [
    "np1[np1 > 5]"
   ]
  },
  {
   "cell_type": "code",
   "execution_count": 133,
   "id": "209f352f-9218-4e32-8ec9-e77156358dfc",
   "metadata": {},
   "outputs": [
    {
     "data": {
      "text/plain": [
       "array([[0, 0, 0],\n",
       "       [0, 7, 9],\n",
       "       [0, 6, 0],\n",
       "       [0, 0, 0],\n",
       "       [9, 8, 7]])"
      ]
     },
     "execution_count": 133,
     "metadata": {},
     "output_type": "execute_result"
    }
   ],
   "source": [
    "np.where(np1 > 5 , np1 , 0)  # np.where(condition , true, false)"
   ]
  },
  {
   "cell_type": "markdown",
   "id": "287c82ec-6bd3-4f83-9a53-a776fedef734",
   "metadata": {},
   "source": [
    "Multiple index"
   ]
  },
  {
   "cell_type": "code",
   "execution_count": 203,
   "id": "fcb75a83-4833-4e61-a193-264b2c684c9f",
   "metadata": {},
   "outputs": [
    {
     "data": {
      "text/plain": [
       "array([ 1,  4, 65,  9,  7,  4,  2, 45, 56])"
      ]
     },
     "execution_count": 203,
     "metadata": {},
     "output_type": "execute_result"
    }
   ],
   "source": [
    "np1 = np.array([1,4,65,9,7,4,2,45,56])\n",
    "np1"
   ]
  },
  {
   "cell_type": "code",
   "execution_count": 205,
   "id": "ed75ad6d-04f1-4926-b235-c0c1b771f71d",
   "metadata": {},
   "outputs": [
    {
     "data": {
      "text/plain": [
       "[0, 3, 5, 6]"
      ]
     },
     "execution_count": 205,
     "metadata": {},
     "output_type": "execute_result"
    }
   ],
   "source": [
    "idxs = [0,3,5,6]\n",
    "idxs"
   ]
  },
  {
   "cell_type": "code",
   "execution_count": 207,
   "id": "45e6cee1-0ce6-4e7f-bb85-58fba4be11f0",
   "metadata": {},
   "outputs": [
    {
     "data": {
      "text/plain": [
       "array([1, 9, 4, 2])"
      ]
     },
     "execution_count": 207,
     "metadata": {},
     "output_type": "execute_result"
    }
   ],
   "source": [
    "np1[idxs]"
   ]
  },
  {
   "cell_type": "code",
   "execution_count": 209,
   "id": "f9658d01-1eef-4a8d-a2ac-0cf5e5939bb4",
   "metadata": {},
   "outputs": [
    {
     "data": {
      "text/plain": [
       "array([[2],\n",
       "       [3],\n",
       "       [4],\n",
       "       [7],\n",
       "       [8]], dtype=int64)"
      ]
     },
     "execution_count": 209,
     "metadata": {},
     "output_type": "execute_result"
    }
   ],
   "source": [
    "np.argwhere(np1 > 5)  # only returns the index"
   ]
  },
  {
   "cell_type": "code",
   "execution_count": 211,
   "id": "c7340355-1f62-413c-a54b-aeac13d0f93b",
   "metadata": {},
   "outputs": [
    {
     "data": {
      "text/plain": [
       "array([2, 3, 4, 7, 8], dtype=int64)"
      ]
     },
     "execution_count": 211,
     "metadata": {},
     "output_type": "execute_result"
    }
   ],
   "source": [
    "np.argwhere(np1 > 5).flatten()"
   ]
  },
  {
   "cell_type": "code",
   "execution_count": 213,
   "id": "607dd509-d5ea-40a7-a69f-bb4e0c7f42f9",
   "metadata": {},
   "outputs": [
    {
     "data": {
      "text/plain": [
       "(array([2, 3, 4, 7, 8], dtype=int64),)"
      ]
     },
     "execution_count": 213,
     "metadata": {},
     "output_type": "execute_result"
    }
   ],
   "source": [
    "np.where(np1 > 5)"
   ]
  },
  {
   "cell_type": "code",
   "execution_count": null,
   "id": "34b3a52f-7a11-4051-8e9f-f2f9cf73dc8b",
   "metadata": {},
   "outputs": [],
   "source": []
  },
  {
   "cell_type": "code",
   "execution_count": null,
   "id": "f0e207de-4377-4b81-941d-fbb7523a9760",
   "metadata": {},
   "outputs": [],
   "source": []
  }
 ],
 "metadata": {
  "kernelspec": {
   "display_name": "Python 3 (ipykernel)",
   "language": "python",
   "name": "python3"
  },
  "language_info": {
   "codemirror_mode": {
    "name": "ipython",
    "version": 3
   },
   "file_extension": ".py",
   "mimetype": "text/x-python",
   "name": "python",
   "nbconvert_exporter": "python",
   "pygments_lexer": "ipython3",
   "version": "3.11.5"
  }
 },
 "nbformat": 4,
 "nbformat_minor": 5
}
