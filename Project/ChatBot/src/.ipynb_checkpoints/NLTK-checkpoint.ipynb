{
 "cells": [
  {
   "cell_type": "code",
   "execution_count": 1,
   "id": "a685af57-43fc-40be-85ba-37f0eb5fec6f",
   "metadata": {},
   "outputs": [],
   "source": [
    "import nltk"
   ]
  },
  {
   "cell_type": "code",
   "execution_count": 2,
   "id": "8078c347-88e7-4a4f-8ed2-9728320bbdfd",
   "metadata": {},
   "outputs": [
    {
     "data": {
      "text/plain": [
       "['Hi', 'There', 'Chatbot']"
      ]
     },
     "execution_count": 2,
     "metadata": {},
     "output_type": "execute_result"
    }
   ],
   "source": [
    "def Tokenize(Sentence):\n",
    "    return nltk.word_tokenize(Sentence)\n",
    "\n",
    "Tokenize(\"Hi There Chatbot\")"
   ]
  },
  {
   "cell_type": "code",
   "execution_count": 3,
   "id": "cbbef6c3-51f1-40fb-9286-efc3b31d9a8e",
   "metadata": {},
   "outputs": [
    {
     "data": {
      "text/plain": [
       "['vegetarian', 'veg', 'non veg', 'non vegetarian']"
      ]
     },
     "execution_count": 3,
     "metadata": {},
     "output_type": "execute_result"
    }
   ],
   "source": [
    "from nltk.stem.porter import PorterStemmer\n",
    "\n",
    "def LoweringStemming(Word):\n",
    "    return PorterStemmer().stem(Word)\n",
    "\n",
    "StemmedWord = [LoweringStemming\n",
    "               (Word) for Word in [\"Print\",\"Printed\",\"Printing\"]]\n",
    "StemmedWord"
   ]
  },
  {
   "cell_type": "code",
   "execution_count": 4,
   "id": "09c59da2-fc23-43c5-9c9f-ccffbb14ffe5",
   "metadata": {},
   "outputs": [],
   "source": [
    "import numpy as np\n",
    "def BagOfWord(Sentence,AllWords):\n",
    "    TokenisedSentence = [LoweringStemming(Word) for Word in Sentence]\n",
    "    Bag = np.zeros(len(AllWords),dtype=np.float32)\n",
    "\n",
    "    for Index,Word in enumerate(AllWords):\n",
    "        if(Word in TokenisedSentence):\n",
    "            Bag[Index] = 1.0\n",
    "    return Bag\n",
    "    "
   ]
  },
  {
   "cell_type": "code",
   "execution_count": 5,
   "id": "37ef079c-e045-462f-a333-39266f4b6f7a",
   "metadata": {},
   "outputs": [
    {
     "data": {
      "text/plain": [
       "array([0., 1., 0., 1., 1.], dtype=float32)"
      ]
     },
     "execution_count": 5,
     "metadata": {},
     "output_type": "execute_result"
    }
   ],
   "source": [
    "Sentence = ['How', 'are', 'you','?']\n",
    "AllWords = ['Hi','how',\"Hello\",'are', 'you']\n",
    "\n",
    "BagOfWord(Sentence,AllWords)"
   ]
  },
  {
   "cell_type": "code",
   "execution_count": null,
   "id": "8f7ca03b-88e1-4f41-a583-167f63422d03",
   "metadata": {},
   "outputs": [],
   "source": []
  }
 ],
 "metadata": {
  "kernelspec": {
   "display_name": "Python 3 (ipykernel)",
   "language": "python",
   "name": "python3"
  },
  "language_info": {
   "codemirror_mode": {
    "name": "ipython",
    "version": 3
   },
   "file_extension": ".py",
   "mimetype": "text/x-python",
   "name": "python",
   "nbconvert_exporter": "python",
   "pygments_lexer": "ipython3",
   "version": "3.12.4"
  }
 },
 "nbformat": 4,
 "nbformat_minor": 5
}
