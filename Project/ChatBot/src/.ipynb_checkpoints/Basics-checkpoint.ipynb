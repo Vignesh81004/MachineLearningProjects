{
 "cells": [
  {
   "cell_type": "code",
   "execution_count": 2,
   "id": "243ee500-c731-47fe-bd0d-efbfa3b30ede",
   "metadata": {},
   "outputs": [],
   "source": [
    "import nltk"
   ]
  },
  {
   "cell_type": "markdown",
   "id": "dd8f2d87-8d16-4312-bb6d-24f6801db806",
   "metadata": {},
   "source": [
    "nltk.download(\"punkt\")"
   ]
  },
  {
   "cell_type": "code",
   "execution_count": 10,
   "id": "d7a9f9f6-21c4-4807-bb42-fa74150839b1",
   "metadata": {},
   "outputs": [],
   "source": [
    "def Tokenize(Sentence):\n",
    "    return nltk.word_tokenize(Sentence)  # Error : nltk.download(\"punkt\") for first time"
   ]
  },
  {
   "cell_type": "code",
   "execution_count": 16,
   "id": "10d01054-ea63-4978-9d31-2d4881200ce1",
   "metadata": {},
   "outputs": [
    {
     "data": {
      "text/plain": [
       "['Hi', 'There', 'Chatbot']"
      ]
     },
     "execution_count": 16,
     "metadata": {},
     "output_type": "execute_result"
    }
   ],
   "source": [
    "TokensiedWord = Tokenize(\"Hi There Chatbot\")\n",
    "TokensiedWord"
   ]
  },
  {
   "cell_type": "code",
   "execution_count": 13,
   "id": "53018c1b-ab14-4203-993c-2e7d3755b817",
   "metadata": {},
   "outputs": [],
   "source": [
    "from nltk.stem.porter import PorterStemmer\n",
    "stemmer = PorterStemmer()\n",
    "\n",
    "def Stem(Word):\n",
    "    return stemmer.stem(Word)"
   ]
  },
  {
   "cell_type": "code",
   "execution_count": 19,
   "id": "da66305f-0934-4b1e-9962-f25cbc7c7cc5",
   "metadata": {},
   "outputs": [
    {
     "data": {
      "text/plain": [
       "['print', 'print', 'print']"
      ]
     },
     "execution_count": 19,
     "metadata": {},
     "output_type": "execute_result"
    }
   ],
   "source": [
    "StemmedWord = [Stem(Word) for Word in [\"Print\",\"Printed\",\"Printing\"]]\n",
    "StemmedWord"
   ]
  },
  {
   "cell_type": "code",
   "execution_count": null,
   "id": "6a2db955-892f-487c-951b-02f96e07f9f2",
   "metadata": {},
   "outputs": [],
   "source": [
    "def BagOfWords(TokenizedWords, AllWords):\n",
    "    pass"
   ]
  }
 ],
 "metadata": {
  "kernelspec": {
   "display_name": "Python 3 (ipykernel)",
   "language": "python",
   "name": "python3"
  },
  "language_info": {
   "codemirror_mode": {
    "name": "ipython",
    "version": 3
   },
   "file_extension": ".py",
   "mimetype": "text/x-python",
   "name": "python",
   "nbconvert_exporter": "python",
   "pygments_lexer": "ipython3",
   "version": "3.12.4"
  }
 },
 "nbformat": 4,
 "nbformat_minor": 5
}
