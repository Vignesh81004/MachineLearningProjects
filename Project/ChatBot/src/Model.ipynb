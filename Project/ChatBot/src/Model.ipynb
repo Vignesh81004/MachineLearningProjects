{
 "cells": [
  {
   "cell_type": "code",
   "execution_count": 2,
   "id": "f0244f7f-fc94-4001-89a1-6e873033fdfd",
   "metadata": {},
   "outputs": [],
   "source": [
    "import torch\n",
    "import torch.nn as nn"
   ]
  },
  {
   "cell_type": "code",
   "execution_count": 4,
   "id": "323103fa-c60a-4e80-a7e9-d4193f706dd1",
   "metadata": {},
   "outputs": [],
   "source": [
    "class NeuralNet(nn.Module):\n",
    "    def __init__(self, InputSize, HiddenSize, NumClasses):\n",
    "        super(NeuralNet, self).__init__()\n",
    "        self.l1 = nn.Linear(InputSize, HiddenSize)\n",
    "        self.l2 = nn.Linear(HiddenSize, HiddenSize)\n",
    "        self.l3 = nn.Linear(HiddenSize, NumClasses)\n",
    "\n",
    "        self.relu = nn.ReLU()\n",
    "\n",
    "    def forward(self, x):\n",
    "        out = self.l1(x)\n",
    "        out = self.relu(out)\n",
    "        out = self.l2(out)\n",
    "        out = self.relu(out)\n",
    "        out = self.l3(out)\n",
    "\n",
    "        return out"
   ]
  },
  {
   "cell_type": "code",
   "execution_count": null,
   "id": "3042930f-9fcd-43a6-97ae-19b8b1bc3a80",
   "metadata": {},
   "outputs": [],
   "source": []
  }
 ],
 "metadata": {
  "kernelspec": {
   "display_name": "Python 3 (ipykernel)",
   "language": "python",
   "name": "python3"
  },
  "language_info": {
   "codemirror_mode": {
    "name": "ipython",
    "version": 3
   },
   "file_extension": ".py",
   "mimetype": "text/x-python",
   "name": "python",
   "nbconvert_exporter": "python",
   "pygments_lexer": "ipython3",
   "version": "3.12.4"
  }
 },
 "nbformat": 4,
 "nbformat_minor": 5
}
