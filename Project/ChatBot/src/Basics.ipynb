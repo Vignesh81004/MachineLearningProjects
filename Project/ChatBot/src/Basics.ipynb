{
 "cells": [
  {
   "cell_type": "code",
   "execution_count": 1,
   "id": "243ee500-c731-47fe-bd0d-efbfa3b30ede",
   "metadata": {},
   "outputs": [],
   "source": [
    "import nltk"
   ]
  },
  {
   "cell_type": "markdown",
   "id": "dd8f2d87-8d16-4312-bb6d-24f6801db806",
   "metadata": {},
   "source": [
    "nltk.download(\"punkt\")"
   ]
  },
  {
   "cell_type": "code",
   "execution_count": 2,
   "id": "d7a9f9f6-21c4-4807-bb42-fa74150839b1",
   "metadata": {},
   "outputs": [],
   "source": [
    "def Tokenize(Sentence):\n",
    "    return nltk.word_tokenize(Sentence)  # Error : nltk.download(\"punkt\") for first time"
   ]
  },
  {
   "cell_type": "code",
   "execution_count": 3,
   "id": "10d01054-ea63-4978-9d31-2d4881200ce1",
   "metadata": {},
   "outputs": [
    {
     "data": {
      "text/plain": [
       "['Hi', 'There', 'Chatbot']"
      ]
     },
     "execution_count": 3,
     "metadata": {},
     "output_type": "execute_result"
    }
   ],
   "source": [
    "TokensiedWord = Tokenize(\"Hi There Chatbot\")\n",
    "TokensiedWord"
   ]
  },
  {
   "cell_type": "code",
   "execution_count": 4,
   "id": "53018c1b-ab14-4203-993c-2e7d3755b817",
   "metadata": {},
   "outputs": [],
   "source": [
    "from nltk.stem.porter import PorterStemmer\n",
    "stemmer = PorterStemmer()\n",
    "\n",
    "def Stem(Word):\n",
    "    return stemmer.stem(Word)"
   ]
  },
  {
   "cell_type": "code",
   "execution_count": 5,
   "id": "da66305f-0934-4b1e-9962-f25cbc7c7cc5",
   "metadata": {},
   "outputs": [
    {
     "data": {
      "text/plain": [
       "['print', 'print', 'print']"
      ]
     },
     "execution_count": 5,
     "metadata": {},
     "output_type": "execute_result"
    }
   ],
   "source": [
    "StemmedWord = [Stem(Word) for Word in [\"Print\",\"Printed\",\"Printing\"]]\n",
    "StemmedWord"
   ]
  },
  {
   "cell_type": "code",
   "execution_count": 6,
   "id": "6a2db955-892f-487c-951b-02f96e07f9f2",
   "metadata": {},
   "outputs": [],
   "source": [
    "def BagOfWords(TokenizedWords, AllWords):\n",
    "    pass"
   ]
  },
  {
   "cell_type": "markdown",
   "id": "d8e0c51a",
   "metadata": {},
   "source": [
    "Json"
   ]
  },
  {
   "cell_type": "code",
   "execution_count": 7,
   "id": "3d6daef8",
   "metadata": {},
   "outputs": [
    {
     "name": "stdout",
     "output_type": "stream",
     "text": [
      "<_io.TextIOWrapper name='intents.json' mode='r' encoding='cp1252'>\n"
     ]
    }
   ],
   "source": [
    "import json\n",
    "\n",
    "with open(\"intents.json\", \"r\") as i:\n",
    "    print(i)\n",
    "    intents = json.load(i)"
   ]
  },
  {
   "cell_type": "code",
   "execution_count": 8,
   "id": "433147d5",
   "metadata": {
    "scrolled": true
   },
   "outputs": [
    {
     "data": {
      "text/plain": [
       "{'intents': [{'tag': 'greeting',\n",
       "   'patterns': ['Hi',\n",
       "    'Hey',\n",
       "    'How are you',\n",
       "    'Is anyone there?',\n",
       "    'Hello',\n",
       "    'Good day'],\n",
       "   'responses': ['Hey :-)',\n",
       "    'Hello, thanks for visiting',\n",
       "    'Hi there, what can I do for you?',\n",
       "    'Hi there, how can I help?']},\n",
       "  {'tag': 'goodbye',\n",
       "   'patterns': ['Bye', 'See you later', 'Goodbye'],\n",
       "   'responses': ['See you later, thanks for visiting',\n",
       "    'Have a nice day',\n",
       "    'Bye! Come back again soon.']},\n",
       "  {'tag': 'thanks',\n",
       "   'patterns': ['Thanks', 'Thank you', \"That's helpful\", \"Thank's a lot!\"],\n",
       "   'responses': ['Happy to help!', 'Any time!', 'My pleasure']},\n",
       "  {'tag': 'items',\n",
       "   'patterns': ['Which items do you have?',\n",
       "    'What kinds of items are there?',\n",
       "    'What do you sell?'],\n",
       "   'responses': ['We sell coffee and tea', 'We have coffee and tea']},\n",
       "  {'tag': 'payments',\n",
       "   'patterns': ['Do you take credit cards?',\n",
       "    'Do you accept Mastercard?',\n",
       "    'Can I pay with Paypal?',\n",
       "    'Are you cash only?'],\n",
       "   'responses': ['We accept VISA, Mastercard and Paypal',\n",
       "    'We accept most major credit cards, and Paypal']},\n",
       "  {'tag': 'delivery',\n",
       "   'patterns': ['How long does delivery take?',\n",
       "    'How long does shipping take?',\n",
       "    'When do I get my delivery?'],\n",
       "   'responses': ['Delivery takes 2-4 days', 'Shipping takes 2-4 days']},\n",
       "  {'tag': 'funny',\n",
       "   'patterns': ['Tell me a joke!',\n",
       "    'Tell me something funny!',\n",
       "    'Do you know a joke?'],\n",
       "   'responses': ['Why did the hipster burn his mouth? He drank the coffee before it was cool.',\n",
       "    'What did the buffalo say when his son left for college? Bison.']}]}"
      ]
     },
     "execution_count": 8,
     "metadata": {},
     "output_type": "execute_result"
    }
   ],
   "source": [
    "intents"
   ]
  },
  {
   "cell_type": "code",
   "execution_count": 9,
   "id": "ed97529e",
   "metadata": {
    "scrolled": true
   },
   "outputs": [
    {
     "name": "stdout",
     "output_type": "stream",
     "text": [
      "{'tag': 'greeting', 'patterns': ['Hi', 'Hey', 'How are you', 'Is anyone there?', 'Hello', 'Good day'], 'responses': ['Hey :-)', 'Hello, thanks for visiting', 'Hi there, what can I do for you?', 'Hi there, how can I help?']} \n",
      "\n",
      "{'tag': 'goodbye', 'patterns': ['Bye', 'See you later', 'Goodbye'], 'responses': ['See you later, thanks for visiting', 'Have a nice day', 'Bye! Come back again soon.']} \n",
      "\n",
      "{'tag': 'thanks', 'patterns': ['Thanks', 'Thank you', \"That's helpful\", \"Thank's a lot!\"], 'responses': ['Happy to help!', 'Any time!', 'My pleasure']} \n",
      "\n",
      "{'tag': 'items', 'patterns': ['Which items do you have?', 'What kinds of items are there?', 'What do you sell?'], 'responses': ['We sell coffee and tea', 'We have coffee and tea']} \n",
      "\n",
      "{'tag': 'payments', 'patterns': ['Do you take credit cards?', 'Do you accept Mastercard?', 'Can I pay with Paypal?', 'Are you cash only?'], 'responses': ['We accept VISA, Mastercard and Paypal', 'We accept most major credit cards, and Paypal']} \n",
      "\n",
      "{'tag': 'delivery', 'patterns': ['How long does delivery take?', 'How long does shipping take?', 'When do I get my delivery?'], 'responses': ['Delivery takes 2-4 days', 'Shipping takes 2-4 days']} \n",
      "\n",
      "{'tag': 'funny', 'patterns': ['Tell me a joke!', 'Tell me something funny!', 'Do you know a joke?'], 'responses': ['Why did the hipster burn his mouth? He drank the coffee before it was cool.', 'What did the buffalo say when his son left for college? Bison.']} \n",
      "\n"
     ]
    }
   ],
   "source": [
    "for intent in intents[\"intents\"]:\n",
    "    print(intent,\"\\n\")"
   ]
  },
  {
   "cell_type": "code",
   "execution_count": 10,
   "id": "9206121e",
   "metadata": {
    "scrolled": true
   },
   "outputs": [
    {
     "name": "stdout",
     "output_type": "stream",
     "text": [
      "Tag :  greeting\n",
      "Pattens :  ['Hi', 'Hey', 'How are you', 'Is anyone there?', 'Hello', 'Good day']\n",
      "Responses :  ['Hey :-)', 'Hello, thanks for visiting', 'Hi there, what can I do for you?', 'Hi there, how can I help?']\n",
      "\n",
      "Tag :  goodbye\n",
      "Pattens :  ['Bye', 'See you later', 'Goodbye']\n",
      "Responses :  ['See you later, thanks for visiting', 'Have a nice day', 'Bye! Come back again soon.']\n",
      "\n",
      "Tag :  thanks\n",
      "Pattens :  ['Thanks', 'Thank you', \"That's helpful\", \"Thank's a lot!\"]\n",
      "Responses :  ['Happy to help!', 'Any time!', 'My pleasure']\n",
      "\n",
      "Tag :  items\n",
      "Pattens :  ['Which items do you have?', 'What kinds of items are there?', 'What do you sell?']\n",
      "Responses :  ['We sell coffee and tea', 'We have coffee and tea']\n",
      "\n",
      "Tag :  payments\n",
      "Pattens :  ['Do you take credit cards?', 'Do you accept Mastercard?', 'Can I pay with Paypal?', 'Are you cash only?']\n",
      "Responses :  ['We accept VISA, Mastercard and Paypal', 'We accept most major credit cards, and Paypal']\n",
      "\n",
      "Tag :  delivery\n",
      "Pattens :  ['How long does delivery take?', 'How long does shipping take?', 'When do I get my delivery?']\n",
      "Responses :  ['Delivery takes 2-4 days', 'Shipping takes 2-4 days']\n",
      "\n",
      "Tag :  funny\n",
      "Pattens :  ['Tell me a joke!', 'Tell me something funny!', 'Do you know a joke?']\n",
      "Responses :  ['Why did the hipster burn his mouth? He drank the coffee before it was cool.', 'What did the buffalo say when his son left for college? Bison.']\n",
      "\n"
     ]
    }
   ],
   "source": [
    "for intent in intents[\"intents\"]:  # Iteraing a Dictionary\n",
    "    print(\"Tag : \",intent[\"tag\"])\n",
    "    print(\"Pattens : \",intent[\"patterns\"])\n",
    "    print(\"Responses : \",intent[\"responses\"])\n",
    "    print()"
   ]
  },
  {
   "cell_type": "code",
   "execution_count": 11,
   "id": "5401ad7c",
   "metadata": {},
   "outputs": [
    {
     "name": "stdout",
     "output_type": "stream",
     "text": [
      "greeting\n",
      "goodbye\n",
      "thanks\n",
      "items\n",
      "payments\n",
      "delivery\n",
      "funny\n"
     ]
    }
   ],
   "source": [
    "for intent in intents[\"intents\"]:  \n",
    "    print(intent[\"tag\"])  # Code To Append(Add Data at Last) Tag in Tags List"
   ]
  },
  {
   "cell_type": "code",
   "execution_count": 12,
   "id": "a0173aa6",
   "metadata": {},
   "outputs": [
    {
     "name": "stdout",
     "output_type": "stream",
     "text": [
      "['Hi', 'Hey', 'How are you', 'Is anyone there?', 'Hello', 'Good day']\n",
      "['Bye', 'See you later', 'Goodbye']\n",
      "['Thanks', 'Thank you', \"That's helpful\", \"Thank's a lot!\"]\n",
      "['Which items do you have?', 'What kinds of items are there?', 'What do you sell?']\n",
      "['Do you take credit cards?', 'Do you accept Mastercard?', 'Can I pay with Paypal?', 'Are you cash only?']\n",
      "['How long does delivery take?', 'How long does shipping take?', 'When do I get my delivery?']\n",
      "['Tell me a joke!', 'Tell me something funny!', 'Do you know a joke?']\n"
     ]
    }
   ],
   "source": [
    "for intent in intents[\"intents\"]:\n",
    "    print(intent[\"patterns\"])"
   ]
  },
  {
   "cell_type": "code",
   "execution_count": 13,
   "id": "ed4ccd9e-e068-437a-a9bd-4009fb194d93",
   "metadata": {
    "scrolled": true
   },
   "outputs": [
    {
     "name": "stdout",
     "output_type": "stream",
     "text": [
      "Hi\n",
      "Hey\n",
      "How are you\n",
      "Is anyone there?\n",
      "Hello\n",
      "Good day\n",
      "Bye\n",
      "See you later\n",
      "Goodbye\n",
      "Thanks\n",
      "Thank you\n",
      "That's helpful\n",
      "Thank's a lot!\n",
      "Which items do you have?\n",
      "What kinds of items are there?\n",
      "What do you sell?\n",
      "Do you take credit cards?\n",
      "Do you accept Mastercard?\n",
      "Can I pay with Paypal?\n",
      "Are you cash only?\n",
      "How long does delivery take?\n",
      "How long does shipping take?\n",
      "When do I get my delivery?\n",
      "Tell me a joke!\n",
      "Tell me something funny!\n",
      "Do you know a joke?\n"
     ]
    }
   ],
   "source": [
    "for intent in intents[\"intents\"]:\n",
    "    for pattern in intent[\"patterns\"]:\n",
    "        print(pattern)"
   ]
  },
  {
   "cell_type": "markdown",
   "id": "250e3d46-96f6-4dfb-98d0-335930d75763",
   "metadata": {},
   "source": [
    "## Tokenization"
   ]
  },
  {
   "cell_type": "code",
   "execution_count": 14,
   "id": "5a607c93-a1e3-4058-88cb-551fc71dc1cc",
   "metadata": {
    "scrolled": true
   },
   "outputs": [
    {
     "name": "stdout",
     "output_type": "stream",
     "text": [
      "['Hi']\n",
      "['Hey']\n",
      "['How', 'are', 'you']\n",
      "['Is', 'anyone', 'there', '?']\n",
      "['Hello']\n",
      "['Good', 'day']\n",
      "['Bye']\n",
      "['See', 'you', 'later']\n",
      "['Goodbye']\n",
      "['Thanks']\n",
      "['Thank', 'you']\n",
      "['That', \"'s\", 'helpful']\n",
      "['Thank', \"'s\", 'a', 'lot', '!']\n",
      "['Which', 'items', 'do', 'you', 'have', '?']\n",
      "['What', 'kinds', 'of', 'items', 'are', 'there', '?']\n",
      "['What', 'do', 'you', 'sell', '?']\n",
      "['Do', 'you', 'take', 'credit', 'cards', '?']\n",
      "['Do', 'you', 'accept', 'Mastercard', '?']\n",
      "['Can', 'I', 'pay', 'with', 'Paypal', '?']\n",
      "['Are', 'you', 'cash', 'only', '?']\n",
      "['How', 'long', 'does', 'delivery', 'take', '?']\n",
      "['How', 'long', 'does', 'shipping', 'take', '?']\n",
      "['When', 'do', 'I', 'get', 'my', 'delivery', '?']\n",
      "['Tell', 'me', 'a', 'joke', '!']\n",
      "['Tell', 'me', 'something', 'funny', '!']\n",
      "['Do', 'you', 'know', 'a', 'joke', '?']\n"
     ]
    }
   ],
   "source": [
    "for intent in intents[\"intents\"]:\n",
    "    for pattern in intent[\"patterns\"]:\n",
    "        print(Tokenize(pattern))   # Seperating a words from the sentence"
   ]
  },
  {
   "cell_type": "markdown",
   "id": "00438cc2-9653-4503-9743-9f26bb5ef62b",
   "metadata": {},
   "source": [
    "### Lower And Stemming Of Tokenised Word"
   ]
  },
  {
   "cell_type": "code",
   "execution_count": 15,
   "id": "d0666825-9b24-425e-8dff-459c7ddbb9df",
   "metadata": {
    "scrolled": true
   },
   "outputs": [
    {
     "name": "stdout",
     "output_type": "stream",
     "text": [
      "['hi']\n",
      "['hey']\n",
      "['how', 'are', 'you']\n",
      "['is', 'anyon', 'there', '?']\n",
      "['hello']\n",
      "['good', 'day']\n",
      "['bye']\n",
      "['see', 'you', 'later']\n",
      "['goodby']\n",
      "['thank']\n",
      "['thank', 'you']\n",
      "['that', \"'s\", 'help']\n",
      "['thank', \"'s\", 'a', 'lot', '!']\n",
      "['which', 'item', 'do', 'you', 'have', '?']\n",
      "['what', 'kind', 'of', 'item', 'are', 'there', '?']\n",
      "['what', 'do', 'you', 'sell', '?']\n",
      "['do', 'you', 'take', 'credit', 'card', '?']\n",
      "['do', 'you', 'accept', 'mastercard', '?']\n",
      "['can', 'i', 'pay', 'with', 'paypal', '?']\n",
      "['are', 'you', 'cash', 'onli', '?']\n",
      "['how', 'long', 'doe', 'deliveri', 'take', '?']\n",
      "['how', 'long', 'doe', 'ship', 'take', '?']\n",
      "['when', 'do', 'i', 'get', 'my', 'deliveri', '?']\n",
      "['tell', 'me', 'a', 'joke', '!']\n",
      "['tell', 'me', 'someth', 'funni', '!']\n",
      "['do', 'you', 'know', 'a', 'joke', '?']\n"
     ]
    }
   ],
   "source": [
    "for intent in intents[\"intents\"]:\n",
    "    for pattern in intent[\"patterns\"]:\n",
    "        Words = Tokenize(pattern)\n",
    "        stemmedWords = [Stem(word) for word in Words]\n",
    "        print(stemmedWords)"
   ]
  },
  {
   "cell_type": "code",
   "execution_count": 16,
   "id": "651dbcce-66f2-48d6-af6f-094fa4c9f663",
   "metadata": {
    "scrolled": true
   },
   "outputs": [
    {
     "name": "stdout",
     "output_type": "stream",
     "text": [
      "['hi']\n",
      "['hey']\n",
      "['how', 'are', 'you']\n",
      "['is', 'anyon', 'there']\n",
      "['hello']\n",
      "['good', 'day']\n",
      "['bye']\n",
      "['see', 'you', 'later']\n",
      "['goodby']\n",
      "['thank']\n",
      "['thank', 'you']\n",
      "['that', \"'s\", 'help']\n",
      "['thank', \"'s\", 'a', 'lot']\n",
      "['which', 'item', 'do', 'you', 'have']\n",
      "['what', 'kind', 'of', 'item', 'are', 'there']\n",
      "['what', 'do', 'you', 'sell']\n",
      "['do', 'you', 'take', 'credit', 'card']\n",
      "['do', 'you', 'accept', 'mastercard']\n",
      "['can', 'i', 'pay', 'with', 'paypal']\n",
      "['are', 'you', 'cash', 'onli']\n",
      "['how', 'long', 'doe', 'deliveri', 'take']\n",
      "['how', 'long', 'doe', 'ship', 'take']\n",
      "['when', 'do', 'i', 'get', 'my', 'deliveri']\n",
      "['tell', 'me', 'a', 'joke']\n",
      "['tell', 'me', 'someth', 'funni']\n",
      "['do', 'you', 'know', 'a', 'joke']\n"
     ]
    }
   ],
   "source": [
    "for intent in intents[\"intents\"]:\n",
    "    for pattern in intent[\"patterns\"]:\n",
    "        Words = Tokenize(pattern)\n",
    "        stemmedWords = [Stem(word) for word in Words if(word not in [\"?\",\"!\",\".\",\",\"])]\n",
    "        print(stemmedWords)"
   ]
  },
  {
   "cell_type": "markdown",
   "id": "246dfbfb-1abf-4c46-9050-4e8b28d37af8",
   "metadata": {},
   "source": [
    "## Now Let's Store the Tags and Patters In A List"
   ]
  },
  {
   "cell_type": "code",
   "execution_count": 17,
   "id": "eeeddd7c-7e95-4efb-9e60-9adc94781450",
   "metadata": {},
   "outputs": [],
   "source": [
    "Tags = []\n",
    "AllWords = []  # Stores The All And Unique Patterns"
   ]
  },
  {
   "cell_type": "markdown",
   "id": "e627d641-c51a-4611-9932-ee1714b92b3a",
   "metadata": {},
   "source": [
    "### For Tags"
   ]
  },
  {
   "cell_type": "code",
   "execution_count": 18,
   "id": "ee690fbc-4c93-46a2-8e5d-13182db1ee58",
   "metadata": {},
   "outputs": [],
   "source": [
    "for intent in intents[\"intents\"]:\n",
    "    Tags.append(intent[\"tag\"])   # Add a Pattern in a Tags List"
   ]
  },
  {
   "cell_type": "code",
   "execution_count": 19,
   "id": "58ab1c43-e22a-4ab8-a890-6fdbf0160eef",
   "metadata": {},
   "outputs": [
    {
     "data": {
      "text/plain": [
       "['greeting', 'goodbye', 'thanks', 'items', 'payments', 'delivery', 'funny']"
      ]
     },
     "execution_count": 19,
     "metadata": {},
     "output_type": "execute_result"
    }
   ],
   "source": [
    "Tags"
   ]
  },
  {
   "cell_type": "markdown",
   "id": "97f146b4-3dc4-4781-9c77-6cded03c099f",
   "metadata": {},
   "source": [
    "### For Patterns\n",
    "1.Tokenization  \n",
    "2.Lowering And Stemming  \n",
    "3.Removing the Symbolls [\"?\",\"!\",\",\",\".\"]  "
   ]
  },
  {
   "cell_type": "code",
   "execution_count": 20,
   "id": "35daaa22-3325-4e9f-affb-6007ad6590d2",
   "metadata": {
    "scrolled": true
   },
   "outputs": [],
   "source": [
    "for intent in intents[\"intents\"]:\n",
    "    for pattern in intent[\"patterns\"]:\n",
    "        for tokens in Tokenize(pattern):  # Tokenization\n",
    "            AfterStemming = Stem(tokens)  # Lowering And Stemming\n",
    "            if(AfterStemming not in [\"?\",\"!\",\",\",\".\",]):\n",
    "                AllWords.append(AfterStemming)"
   ]
  },
  {
   "cell_type": "code",
   "execution_count": 21,
   "id": "784a96b6-36ca-4de2-8af5-b7539aa0c0b1",
   "metadata": {
    "scrolled": true
   },
   "outputs": [
    {
     "data": {
      "text/plain": [
       "['hi',\n",
       " 'hey',\n",
       " 'how',\n",
       " 'are',\n",
       " 'you',\n",
       " 'is',\n",
       " 'anyon',\n",
       " 'there',\n",
       " 'hello',\n",
       " 'good',\n",
       " 'day',\n",
       " 'bye',\n",
       " 'see',\n",
       " 'you',\n",
       " 'later',\n",
       " 'goodby',\n",
       " 'thank',\n",
       " 'thank',\n",
       " 'you',\n",
       " 'that',\n",
       " \"'s\",\n",
       " 'help',\n",
       " 'thank',\n",
       " \"'s\",\n",
       " 'a',\n",
       " 'lot',\n",
       " 'which',\n",
       " 'item',\n",
       " 'do',\n",
       " 'you',\n",
       " 'have',\n",
       " 'what',\n",
       " 'kind',\n",
       " 'of',\n",
       " 'item',\n",
       " 'are',\n",
       " 'there',\n",
       " 'what',\n",
       " 'do',\n",
       " 'you',\n",
       " 'sell',\n",
       " 'do',\n",
       " 'you',\n",
       " 'take',\n",
       " 'credit',\n",
       " 'card',\n",
       " 'do',\n",
       " 'you',\n",
       " 'accept',\n",
       " 'mastercard',\n",
       " 'can',\n",
       " 'i',\n",
       " 'pay',\n",
       " 'with',\n",
       " 'paypal',\n",
       " 'are',\n",
       " 'you',\n",
       " 'cash',\n",
       " 'onli',\n",
       " 'how',\n",
       " 'long',\n",
       " 'doe',\n",
       " 'deliveri',\n",
       " 'take',\n",
       " 'how',\n",
       " 'long',\n",
       " 'doe',\n",
       " 'ship',\n",
       " 'take',\n",
       " 'when',\n",
       " 'do',\n",
       " 'i',\n",
       " 'get',\n",
       " 'my',\n",
       " 'deliveri',\n",
       " 'tell',\n",
       " 'me',\n",
       " 'a',\n",
       " 'joke',\n",
       " 'tell',\n",
       " 'me',\n",
       " 'someth',\n",
       " 'funni',\n",
       " 'do',\n",
       " 'you',\n",
       " 'know',\n",
       " 'a',\n",
       " 'joke']"
      ]
     },
     "execution_count": 21,
     "metadata": {},
     "output_type": "execute_result"
    }
   ],
   "source": [
    "AllWords"
   ]
  },
  {
   "cell_type": "markdown",
   "id": "042e416d-0996-4119-af4a-acf4c30d71ce",
   "metadata": {},
   "source": [
    "## Sorting"
   ]
  },
  {
   "cell_type": "markdown",
   "id": "3472cc5a-a871-458c-8e6f-132d2842e0d5",
   "metadata": {},
   "source": [
    "### 1. Tags"
   ]
  },
  {
   "cell_type": "code",
   "execution_count": 22,
   "id": "92b7d19f-18d8-4c52-a9c2-5632132b15e6",
   "metadata": {},
   "outputs": [],
   "source": [
    "Tags = sorted(Tags)"
   ]
  },
  {
   "cell_type": "code",
   "execution_count": 23,
   "id": "82fa6e8e-242b-479d-b08c-d7eb46e6290b",
   "metadata": {},
   "outputs": [
    {
     "data": {
      "text/plain": [
       "['delivery', 'funny', 'goodbye', 'greeting', 'items', 'payments', 'thanks']"
      ]
     },
     "execution_count": 23,
     "metadata": {},
     "output_type": "execute_result"
    }
   ],
   "source": [
    "Tags"
   ]
  },
  {
   "cell_type": "markdown",
   "id": "c9b73faf-4d38-43c6-8bcb-681226d3beeb",
   "metadata": {},
   "source": [
    "### 2. AllWords"
   ]
  },
  {
   "cell_type": "code",
   "execution_count": 24,
   "id": "7e96c46e-3817-4642-be15-801298610cbc",
   "metadata": {},
   "outputs": [],
   "source": [
    "AllWords = set(AllWords)  # Unique Word"
   ]
  },
  {
   "cell_type": "code",
   "execution_count": 25,
   "id": "6d74da6f-f02d-4a4d-aa93-419dda4dc63b",
   "metadata": {
    "scrolled": true
   },
   "outputs": [
    {
     "data": {
      "text/plain": [
       "{\"'s\",\n",
       " 'a',\n",
       " 'accept',\n",
       " 'anyon',\n",
       " 'are',\n",
       " 'bye',\n",
       " 'can',\n",
       " 'card',\n",
       " 'cash',\n",
       " 'credit',\n",
       " 'day',\n",
       " 'deliveri',\n",
       " 'do',\n",
       " 'doe',\n",
       " 'funni',\n",
       " 'get',\n",
       " 'good',\n",
       " 'goodby',\n",
       " 'have',\n",
       " 'hello',\n",
       " 'help',\n",
       " 'hey',\n",
       " 'hi',\n",
       " 'how',\n",
       " 'i',\n",
       " 'is',\n",
       " 'item',\n",
       " 'joke',\n",
       " 'kind',\n",
       " 'know',\n",
       " 'later',\n",
       " 'long',\n",
       " 'lot',\n",
       " 'mastercard',\n",
       " 'me',\n",
       " 'my',\n",
       " 'of',\n",
       " 'onli',\n",
       " 'pay',\n",
       " 'paypal',\n",
       " 'see',\n",
       " 'sell',\n",
       " 'ship',\n",
       " 'someth',\n",
       " 'take',\n",
       " 'tell',\n",
       " 'thank',\n",
       " 'that',\n",
       " 'there',\n",
       " 'what',\n",
       " 'when',\n",
       " 'which',\n",
       " 'with',\n",
       " 'you'}"
      ]
     },
     "execution_count": 25,
     "metadata": {},
     "output_type": "execute_result"
    }
   ],
   "source": [
    "AllWords"
   ]
  },
  {
   "cell_type": "code",
   "execution_count": 26,
   "id": "b9c16c30-ed77-4581-81ac-60dc907f9722",
   "metadata": {},
   "outputs": [],
   "source": [
    "AllWords = sorted(AllWords)  # This Will Sort the Set and typecast to list"
   ]
  },
  {
   "cell_type": "code",
   "execution_count": 27,
   "id": "853725fc-e51f-40e6-91f9-51f61ee292ce",
   "metadata": {
    "scrolled": true
   },
   "outputs": [
    {
     "data": {
      "text/plain": [
       "[\"'s\",\n",
       " 'a',\n",
       " 'accept',\n",
       " 'anyon',\n",
       " 'are',\n",
       " 'bye',\n",
       " 'can',\n",
       " 'card',\n",
       " 'cash',\n",
       " 'credit',\n",
       " 'day',\n",
       " 'deliveri',\n",
       " 'do',\n",
       " 'doe',\n",
       " 'funni',\n",
       " 'get',\n",
       " 'good',\n",
       " 'goodby',\n",
       " 'have',\n",
       " 'hello',\n",
       " 'help',\n",
       " 'hey',\n",
       " 'hi',\n",
       " 'how',\n",
       " 'i',\n",
       " 'is',\n",
       " 'item',\n",
       " 'joke',\n",
       " 'kind',\n",
       " 'know',\n",
       " 'later',\n",
       " 'long',\n",
       " 'lot',\n",
       " 'mastercard',\n",
       " 'me',\n",
       " 'my',\n",
       " 'of',\n",
       " 'onli',\n",
       " 'pay',\n",
       " 'paypal',\n",
       " 'see',\n",
       " 'sell',\n",
       " 'ship',\n",
       " 'someth',\n",
       " 'take',\n",
       " 'tell',\n",
       " 'thank',\n",
       " 'that',\n",
       " 'there',\n",
       " 'what',\n",
       " 'when',\n",
       " 'which',\n",
       " 'with',\n",
       " 'you']"
      ]
     },
     "execution_count": 27,
     "metadata": {},
     "output_type": "execute_result"
    }
   ],
   "source": [
    "AllWords"
   ]
  },
  {
   "cell_type": "code",
   "execution_count": null,
   "id": "d6d9adb9-500a-4d0a-b029-9048a68c14a4",
   "metadata": {},
   "outputs": [],
   "source": []
  }
 ],
 "metadata": {
  "kernelspec": {
   "display_name": "ChatBot",
   "language": "python",
   "name": "python3"
  },
  "language_info": {
   "codemirror_mode": {
    "name": "ipython",
    "version": 3
   },
   "file_extension": ".py",
   "mimetype": "text/x-python",
   "name": "python",
   "nbconvert_exporter": "python",
   "pygments_lexer": "ipython3",
   "version": "3.12.4"
  }
 },
 "nbformat": 4,
 "nbformat_minor": 5
}
